{
  "metadata": {
    "language_info": {
      "codemirror_mode": {
        "name": "python",
        "version": 3
      },
      "file_extension": ".py",
      "mimetype": "text/x-python",
      "name": "python",
      "nbconvert_exporter": "python",
      "pygments_lexer": "ipython3",
      "version": "3.8"
    },
    "kernelspec": {
      "name": "python",
      "display_name": "Python (Pyodide)",
      "language": "python"
    }
  },
  "nbformat_minor": 4,
  "nbformat": 4,
  "cells": [
    {
      "cell_type": "markdown",
      "source": "## The Assignment",
      "metadata": {}
    },
    {
      "cell_type": "code",
      "source": "#Exercise 2 - Create a markdown cell with the title of the notebook. (1 pt)",
      "metadata": {},
      "execution_count": null,
      "outputs": []
    },
    {
      "cell_type": "markdown",
      "source": "The Data Science Assignment",
      "metadata": {}
    },
    {
      "cell_type": "code",
      "source": "#Exercise 3 - Create a markdown cell for an introduction. (1 pt)",
      "metadata": {},
      "execution_count": null,
      "outputs": []
    },
    {
      "cell_type": "markdown",
      "source": "This Assignment will get you familiar with Data Science tools",
      "metadata": {}
    },
    {
      "cell_type": "code",
      "source": "# Exercise 4 - Create a markdown cell to list data science languages. (3 pts)",
      "metadata": {
        "trusted": true
      },
      "execution_count": 1,
      "outputs": []
    },
    {
      "cell_type": "markdown",
      "source": "Python.\n\nR.\n\nSQL.\n\nJava.\n\nJulia.\n\nScala.",
      "metadata": {}
    },
    {
      "cell_type": "code",
      "source": "# Exercise 5 - Create a markdown cell to list data science libraries. (3 pts)",
      "metadata": {
        "trusted": true
      },
      "execution_count": 2,
      "outputs": []
    },
    {
      "cell_type": "markdown",
      "source": "TensorFlow.\nNumPy.\nSciPy.\nPandas.\nMatplotlib.\nKeras.\nSciKit-Learn.\nPyTorch.",
      "metadata": {}
    },
    {
      "cell_type": "code",
      "source": "# Exercise 6 - Create a markdown cell with a table of Data Science tools. (3 pts)",
      "metadata": {},
      "execution_count": null,
      "outputs": []
    },
    {
      "cell_type": "markdown",
      "source": "| Tool | Description | Language | Type |\n|------|-------------|----------|------|\n| Python | A popular general-purpose programming language with many powerful data analysis and machine learning libraries, such as NumPy, Pandas, Scikit-learn, TensorFlow, and PyTorch. | Python | Programming Language |\n| R | A programming language and environment for statistical computing and graphics, with many powerful data analysis and visualization libraries, such as dplyr, ggplot2, and Shiny. | R | Programming Language |\n| SQL | A domain-specific language used for managing relational databases and querying data. SQL is used to store and retrieve data, and is often used in conjunction with other data analysis tools. | N/A | Query Language |\n| Tableau | A powerful data visualization tool that allows users to create interactive dashboards and reports. Tableau is often used to explore and communicate insights from data. | N/A | Data Visualization |\n| Excel | A spreadsheet program that allows users to organize, manipulate, and analyze data. Excel is often used for basic data analysis tasks, such as calculating averages and creating charts. | N/A | Spreadsheet |\n",
      "metadata": {}
    },
    {
      "cell_type": "code",
      "source": "# Exercise 7 - Create a markdown cell introducing arithmetic expression examples. (1 pt)",
      "metadata": {
        "trusted": true
      },
      "execution_count": 6,
      "outputs": []
    },
    {
      "cell_type": "markdown",
      "source": "(7 - 3) --  the difference  of two  numbers is an arithmetic expression",
      "metadata": {}
    },
    {
      "cell_type": "code",
      "source": "# Exercise 8 - Create a code cell to multiply and add numbers.(2 pts)",
      "metadata": {
        "trusted": true
      },
      "execution_count": 7,
      "outputs": []
    },
    {
      "cell_type": "code",
      "source": "print(2*5)\nprint(2+5)",
      "metadata": {
        "trusted": true
      },
      "execution_count": 9,
      "outputs": [
        {
          "name": "stdout",
          "text": "10\n7\n",
          "output_type": "stream"
        }
      ]
    },
    {
      "cell_type": "code",
      "source": "# Exercise 9 - Create a code cell to convert minutes to hours. (2 pts)",
      "metadata": {},
      "execution_count": null,
      "outputs": []
    },
    {
      "cell_type": "code",
      "source": "def mintohour(a):\n    result = a/60\n    print(result, \" hours\")",
      "metadata": {
        "trusted": true
      },
      "execution_count": 18,
      "outputs": []
    },
    {
      "cell_type": "code",
      "source": "#Example convert 120 minutes to hour\nmintohour(120)",
      "metadata": {
        "trusted": true
      },
      "execution_count": 19,
      "outputs": [
        {
          "name": "stdout",
          "text": "2.0  hours\n",
          "output_type": "stream"
        }
      ]
    },
    {
      "cell_type": "code",
      "source": "# Exercise 10 -Insert a markdown cell to list Objectives. (3 pts)",
      "metadata": {},
      "execution_count": null,
      "outputs": []
    },
    {
      "cell_type": "markdown",
      "source": "Data Collection: Learn how to collect and acquire data from various sources, such as databases, APIs, web scraping, and sensors.\n\nData Cleaning and Preprocessing: Learn how to clean and preprocess data to remove inconsistencies, errors, and missing values.\n\nExploratory Data Analysis: Learn how to explore and visualize data to identify patterns, relationships, and outliers.\n\nMachine Learning: Learn how to build and train machine learning models to make predictions and classifications on new data.\n\nDeep Learning: Learn how to build and train deep neural networks to solve complex problems, such as image recognition and natural language processing.\n\nStatistical Analysis: Learn how to apply statistical techniques to analyze and interpret data, such as hypothesis testing, regression analysis, and time series analysis.\n\nData Visualization: Learn how to create meaningful and effective visualizations to communicate insights and trends to stakeholders.\n\nBig Data: Learn how to process and analyze large volumes of data using distributed computing frameworks, such as Hadoop and Spark.\n\nData Ethics and Privacy: Learn about the ethical and legal implications of data science, such as privacy concerns, bias, and discrimination.\n\nBusiness Understanding: Learn how to translate data insights into actionable recommendations and strategies for businesses and organizations.",
      "metadata": {}
    },
    {
      "cell_type": "code",
      "source": "#Exercise 11 - Create a markdown cell to indicate the Author’s name. (2 pts)",
      "metadata": {},
      "execution_count": null,
      "outputs": []
    },
    {
      "cell_type": "markdown",
      "source": "Author's name is Hank",
      "metadata": {}
    },
    {
      "cell_type": "code",
      "source": "# Exercise 12 - Share your notebook through GitHub (3 pts)\n",
      "metadata": {
        "trusted": true
      },
      "execution_count": 5,
      "outputs": []
    }
  ]
}